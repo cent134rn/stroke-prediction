{
  "nbformat": 4,
  "nbformat_minor": 0,
  "metadata": {
    "colab": {
      "provenance": []
    },
    "kernelspec": {
      "name": "python3",
      "display_name": "Python 3"
    },
    "language_info": {
      "name": "python"
    }
  },
  "cells": [
    {
      "cell_type": "markdown",
      "source": [
        "# DATA PREPROCESSING"
      ],
      "metadata": {
        "id": "uVBMksLUMqb6"
      }
    },
    {
      "cell_type": "code",
      "execution_count": null,
      "metadata": {
        "id": "mCKFCNu5buPn"
      },
      "outputs": [],
      "source": [
        "import numpy as np\n",
        "import pandas as pd"
      ]
    },
    {
      "cell_type": "code",
      "source": [
        "# untuk membaca dataset raw\n",
        "data = pd.read_csv('/content/drive/MyDrive/Colab Notebooks/ML Project/healthcare-dataset-stroke-data.csv')"
      ],
      "metadata": {
        "id": "GroNkOOhb4wB"
      },
      "execution_count": null,
      "outputs": []
    },
    {
      "cell_type": "code",
      "source": [
        "# melihat shape dataset raw\n",
        "print(data.shape)\n",
        "data.head()"
      ],
      "metadata": {
        "colab": {
          "base_uri": "https://localhost:8080/",
          "height": 223
        },
        "id": "hA-cZtuKcZl3",
        "outputId": "4d0ebf75-d01f-480f-d7a8-dfb80b5bd8de"
      },
      "execution_count": null,
      "outputs": [
        {
          "output_type": "stream",
          "name": "stdout",
          "text": [
            "(5110, 12)\n"
          ]
        },
        {
          "output_type": "execute_result",
          "data": {
            "text/plain": [
              "      id  gender   age  hypertension  heart_disease ever_married  \\\n",
              "0   9046    Male  67.0             0              1          Yes   \n",
              "1  51676  Female  61.0             0              0          Yes   \n",
              "2  31112    Male  80.0             0              1          Yes   \n",
              "3  60182  Female  49.0             0              0          Yes   \n",
              "4   1665  Female  79.0             1              0          Yes   \n",
              "\n",
              "       work_type Residence_type  avg_glucose_level   bmi   smoking_status  \\\n",
              "0        Private          Urban             228.69  36.6  formerly smoked   \n",
              "1  Self-employed          Rural             202.21   NaN     never smoked   \n",
              "2        Private          Rural             105.92  32.5     never smoked   \n",
              "3        Private          Urban             171.23  34.4           smokes   \n",
              "4  Self-employed          Rural             174.12  24.0     never smoked   \n",
              "\n",
              "   stroke  \n",
              "0       1  \n",
              "1       1  \n",
              "2       1  \n",
              "3       1  \n",
              "4       1  "
            ],
            "text/html": [
              "\n",
              "  <div id=\"df-c0dfa95e-3ad9-4030-923c-cdf85e359ef4\">\n",
              "    <div class=\"colab-df-container\">\n",
              "      <div>\n",
              "<style scoped>\n",
              "    .dataframe tbody tr th:only-of-type {\n",
              "        vertical-align: middle;\n",
              "    }\n",
              "\n",
              "    .dataframe tbody tr th {\n",
              "        vertical-align: top;\n",
              "    }\n",
              "\n",
              "    .dataframe thead th {\n",
              "        text-align: right;\n",
              "    }\n",
              "</style>\n",
              "<table border=\"1\" class=\"dataframe\">\n",
              "  <thead>\n",
              "    <tr style=\"text-align: right;\">\n",
              "      <th></th>\n",
              "      <th>id</th>\n",
              "      <th>gender</th>\n",
              "      <th>age</th>\n",
              "      <th>hypertension</th>\n",
              "      <th>heart_disease</th>\n",
              "      <th>ever_married</th>\n",
              "      <th>work_type</th>\n",
              "      <th>Residence_type</th>\n",
              "      <th>avg_glucose_level</th>\n",
              "      <th>bmi</th>\n",
              "      <th>smoking_status</th>\n",
              "      <th>stroke</th>\n",
              "    </tr>\n",
              "  </thead>\n",
              "  <tbody>\n",
              "    <tr>\n",
              "      <th>0</th>\n",
              "      <td>9046</td>\n",
              "      <td>Male</td>\n",
              "      <td>67.0</td>\n",
              "      <td>0</td>\n",
              "      <td>1</td>\n",
              "      <td>Yes</td>\n",
              "      <td>Private</td>\n",
              "      <td>Urban</td>\n",
              "      <td>228.69</td>\n",
              "      <td>36.6</td>\n",
              "      <td>formerly smoked</td>\n",
              "      <td>1</td>\n",
              "    </tr>\n",
              "    <tr>\n",
              "      <th>1</th>\n",
              "      <td>51676</td>\n",
              "      <td>Female</td>\n",
              "      <td>61.0</td>\n",
              "      <td>0</td>\n",
              "      <td>0</td>\n",
              "      <td>Yes</td>\n",
              "      <td>Self-employed</td>\n",
              "      <td>Rural</td>\n",
              "      <td>202.21</td>\n",
              "      <td>NaN</td>\n",
              "      <td>never smoked</td>\n",
              "      <td>1</td>\n",
              "    </tr>\n",
              "    <tr>\n",
              "      <th>2</th>\n",
              "      <td>31112</td>\n",
              "      <td>Male</td>\n",
              "      <td>80.0</td>\n",
              "      <td>0</td>\n",
              "      <td>1</td>\n",
              "      <td>Yes</td>\n",
              "      <td>Private</td>\n",
              "      <td>Rural</td>\n",
              "      <td>105.92</td>\n",
              "      <td>32.5</td>\n",
              "      <td>never smoked</td>\n",
              "      <td>1</td>\n",
              "    </tr>\n",
              "    <tr>\n",
              "      <th>3</th>\n",
              "      <td>60182</td>\n",
              "      <td>Female</td>\n",
              "      <td>49.0</td>\n",
              "      <td>0</td>\n",
              "      <td>0</td>\n",
              "      <td>Yes</td>\n",
              "      <td>Private</td>\n",
              "      <td>Urban</td>\n",
              "      <td>171.23</td>\n",
              "      <td>34.4</td>\n",
              "      <td>smokes</td>\n",
              "      <td>1</td>\n",
              "    </tr>\n",
              "    <tr>\n",
              "      <th>4</th>\n",
              "      <td>1665</td>\n",
              "      <td>Female</td>\n",
              "      <td>79.0</td>\n",
              "      <td>1</td>\n",
              "      <td>0</td>\n",
              "      <td>Yes</td>\n",
              "      <td>Self-employed</td>\n",
              "      <td>Rural</td>\n",
              "      <td>174.12</td>\n",
              "      <td>24.0</td>\n",
              "      <td>never smoked</td>\n",
              "      <td>1</td>\n",
              "    </tr>\n",
              "  </tbody>\n",
              "</table>\n",
              "</div>\n",
              "      <button class=\"colab-df-convert\" onclick=\"convertToInteractive('df-c0dfa95e-3ad9-4030-923c-cdf85e359ef4')\"\n",
              "              title=\"Convert this dataframe to an interactive table.\"\n",
              "              style=\"display:none;\">\n",
              "        \n",
              "  <svg xmlns=\"http://www.w3.org/2000/svg\" height=\"24px\"viewBox=\"0 0 24 24\"\n",
              "       width=\"24px\">\n",
              "    <path d=\"M0 0h24v24H0V0z\" fill=\"none\"/>\n",
              "    <path d=\"M18.56 5.44l.94 2.06.94-2.06 2.06-.94-2.06-.94-.94-2.06-.94 2.06-2.06.94zm-11 1L8.5 8.5l.94-2.06 2.06-.94-2.06-.94L8.5 2.5l-.94 2.06-2.06.94zm10 10l.94 2.06.94-2.06 2.06-.94-2.06-.94-.94-2.06-.94 2.06-2.06.94z\"/><path d=\"M17.41 7.96l-1.37-1.37c-.4-.4-.92-.59-1.43-.59-.52 0-1.04.2-1.43.59L10.3 9.45l-7.72 7.72c-.78.78-.78 2.05 0 2.83L4 21.41c.39.39.9.59 1.41.59.51 0 1.02-.2 1.41-.59l7.78-7.78 2.81-2.81c.8-.78.8-2.07 0-2.86zM5.41 20L4 18.59l7.72-7.72 1.47 1.35L5.41 20z\"/>\n",
              "  </svg>\n",
              "      </button>\n",
              "      \n",
              "  <style>\n",
              "    .colab-df-container {\n",
              "      display:flex;\n",
              "      flex-wrap:wrap;\n",
              "      gap: 12px;\n",
              "    }\n",
              "\n",
              "    .colab-df-convert {\n",
              "      background-color: #E8F0FE;\n",
              "      border: none;\n",
              "      border-radius: 50%;\n",
              "      cursor: pointer;\n",
              "      display: none;\n",
              "      fill: #1967D2;\n",
              "      height: 32px;\n",
              "      padding: 0 0 0 0;\n",
              "      width: 32px;\n",
              "    }\n",
              "\n",
              "    .colab-df-convert:hover {\n",
              "      background-color: #E2EBFA;\n",
              "      box-shadow: 0px 1px 2px rgba(60, 64, 67, 0.3), 0px 1px 3px 1px rgba(60, 64, 67, 0.15);\n",
              "      fill: #174EA6;\n",
              "    }\n",
              "\n",
              "    [theme=dark] .colab-df-convert {\n",
              "      background-color: #3B4455;\n",
              "      fill: #D2E3FC;\n",
              "    }\n",
              "\n",
              "    [theme=dark] .colab-df-convert:hover {\n",
              "      background-color: #434B5C;\n",
              "      box-shadow: 0px 1px 3px 1px rgba(0, 0, 0, 0.15);\n",
              "      filter: drop-shadow(0px 1px 2px rgba(0, 0, 0, 0.3));\n",
              "      fill: #FFFFFF;\n",
              "    }\n",
              "  </style>\n",
              "\n",
              "      <script>\n",
              "        const buttonEl =\n",
              "          document.querySelector('#df-c0dfa95e-3ad9-4030-923c-cdf85e359ef4 button.colab-df-convert');\n",
              "        buttonEl.style.display =\n",
              "          google.colab.kernel.accessAllowed ? 'block' : 'none';\n",
              "\n",
              "        async function convertToInteractive(key) {\n",
              "          const element = document.querySelector('#df-c0dfa95e-3ad9-4030-923c-cdf85e359ef4');\n",
              "          const dataTable =\n",
              "            await google.colab.kernel.invokeFunction('convertToInteractive',\n",
              "                                                     [key], {});\n",
              "          if (!dataTable) return;\n",
              "\n",
              "          const docLinkHtml = 'Like what you see? Visit the ' +\n",
              "            '<a target=\"_blank\" href=https://colab.research.google.com/notebooks/data_table.ipynb>data table notebook</a>'\n",
              "            + ' to learn more about interactive tables.';\n",
              "          element.innerHTML = '';\n",
              "          dataTable['output_type'] = 'display_data';\n",
              "          await google.colab.output.renderOutput(dataTable, element);\n",
              "          const docLink = document.createElement('div');\n",
              "          docLink.innerHTML = docLinkHtml;\n",
              "          element.appendChild(docLink);\n",
              "        }\n",
              "      </script>\n",
              "    </div>\n",
              "  </div>\n",
              "  "
            ]
          },
          "metadata": {},
          "execution_count": 3
        }
      ]
    },
    {
      "cell_type": "code",
      "source": [
        "# membagi data dependen (y) sebagai hasil output dan data independen(x) sebagai fitur/atribut buat prediksi\n",
        "x = data.drop(columns=['stroke'])\n",
        "y = data['stroke']"
      ],
      "metadata": {
        "id": "irwKy_wz5BD2"
      },
      "execution_count": null,
      "outputs": []
    },
    {
      "cell_type": "code",
      "source": [
        "# menghitung jumlah tiap kategori output\n",
        "# 0 = tidak stroke\n",
        "# 1 = stroke\n",
        "y.value_counts()"
      ],
      "metadata": {
        "colab": {
          "base_uri": "https://localhost:8080/"
        },
        "id": "cdVn6eFG5JfK",
        "outputId": "3e68611f-c6d7-47ed-fae6-fc4274323e2a"
      },
      "execution_count": null,
      "outputs": [
        {
          "output_type": "execute_result",
          "data": {
            "text/plain": [
              "0    4861\n",
              "1     249\n",
              "Name: stroke, dtype: int64"
            ]
          },
          "metadata": {},
          "execution_count": 5
        }
      ]
    },
    {
      "cell_type": "code",
      "source": [
        "# melakukan data preprocessing\n",
        "\n",
        "data = data.dropna() # menghapus data kosong\n",
        "data = data[data[\"smoking_status\"].str.contains(\"Unknown\") == False] # menghilangkan data smoking_status yang bernilai \"Unknown\"\n",
        "\n",
        "# Label encoding -> mengubah data kategori kata menjadi kategori numerik\n",
        "data['gender'].replace(['Female','Male','Other'], [0,1,2],inplace=True)\n",
        "data['ever_married'].replace(['No','Yes'],[0,1],inplace=True)\n",
        "data['work_type'].replace(['Self-employed','Private', 'Govt_job', 'children', 'Never_worked'],[0,1,2,3,4],inplace=True)\n",
        "data['Residence_type'].replace(['Urban','Rural'],[0,1],inplace=True)\n",
        "data['smoking_status'].replace(['never smoked','formerly smoked','smokes'],[0,1,2],inplace=True)"
      ],
      "metadata": {
        "id": "hnK07BevcaQj",
        "colab": {
          "base_uri": "https://localhost:8080/"
        },
        "outputId": "23d79694-4f7e-486e-ac5b-2c262156d931"
      },
      "execution_count": null,
      "outputs": [
        {
          "output_type": "stream",
          "name": "stderr",
          "text": [
            "<ipython-input-6-009d6faa0137>:7: SettingWithCopyWarning: \n",
            "A value is trying to be set on a copy of a slice from a DataFrame\n",
            "\n",
            "See the caveats in the documentation: https://pandas.pydata.org/pandas-docs/stable/user_guide/indexing.html#returning-a-view-versus-a-copy\n",
            "  data['gender'].replace(['Female','Male','Other'], [0,1,2],inplace=True)\n",
            "<ipython-input-6-009d6faa0137>:8: SettingWithCopyWarning: \n",
            "A value is trying to be set on a copy of a slice from a DataFrame\n",
            "\n",
            "See the caveats in the documentation: https://pandas.pydata.org/pandas-docs/stable/user_guide/indexing.html#returning-a-view-versus-a-copy\n",
            "  data['ever_married'].replace(['No','Yes'],[0,1],inplace=True)\n",
            "<ipython-input-6-009d6faa0137>:9: SettingWithCopyWarning: \n",
            "A value is trying to be set on a copy of a slice from a DataFrame\n",
            "\n",
            "See the caveats in the documentation: https://pandas.pydata.org/pandas-docs/stable/user_guide/indexing.html#returning-a-view-versus-a-copy\n",
            "  data['work_type'].replace(['Self-employed','Private', 'Govt_job', 'children', 'Never_worked'],[0,1,2,3,4],inplace=True)\n",
            "<ipython-input-6-009d6faa0137>:10: SettingWithCopyWarning: \n",
            "A value is trying to be set on a copy of a slice from a DataFrame\n",
            "\n",
            "See the caveats in the documentation: https://pandas.pydata.org/pandas-docs/stable/user_guide/indexing.html#returning-a-view-versus-a-copy\n",
            "  data['Residence_type'].replace(['Urban','Rural'],[0,1],inplace=True)\n",
            "<ipython-input-6-009d6faa0137>:11: SettingWithCopyWarning: \n",
            "A value is trying to be set on a copy of a slice from a DataFrame\n",
            "\n",
            "See the caveats in the documentation: https://pandas.pydata.org/pandas-docs/stable/user_guide/indexing.html#returning-a-view-versus-a-copy\n",
            "  data['smoking_status'].replace(['never smoked','formerly smoked','smokes'],[0,1,2],inplace=True)\n"
          ]
        }
      ]
    },
    {
      "cell_type": "code",
      "source": [
        "# lihat lagi shape setelah di preprocessing\n",
        "print(data.shape)\n",
        "data.head()"
      ],
      "metadata": {
        "colab": {
          "base_uri": "https://localhost:8080/",
          "height": 223
        },
        "id": "i-kBqWq8dueV",
        "outputId": "d5bef0e1-e1a4-40f8-8f76-d043022e077d"
      },
      "execution_count": null,
      "outputs": [
        {
          "output_type": "stream",
          "name": "stdout",
          "text": [
            "(3426, 12)\n"
          ]
        },
        {
          "output_type": "execute_result",
          "data": {
            "text/plain": [
              "      id  gender   age  hypertension  heart_disease  ever_married  work_type  \\\n",
              "0   9046       1  67.0             0              1             1          1   \n",
              "2  31112       1  80.0             0              1             1          1   \n",
              "3  60182       0  49.0             0              0             1          1   \n",
              "4   1665       0  79.0             1              0             1          0   \n",
              "5  56669       1  81.0             0              0             1          1   \n",
              "\n",
              "   Residence_type  avg_glucose_level   bmi  smoking_status  stroke  \n",
              "0               0             228.69  36.6               1       1  \n",
              "2               1             105.92  32.5               0       1  \n",
              "3               0             171.23  34.4               2       1  \n",
              "4               1             174.12  24.0               0       1  \n",
              "5               0             186.21  29.0               1       1  "
            ],
            "text/html": [
              "\n",
              "  <div id=\"df-dfe177c8-1967-40b3-8bb1-7e37bc8ab62d\">\n",
              "    <div class=\"colab-df-container\">\n",
              "      <div>\n",
              "<style scoped>\n",
              "    .dataframe tbody tr th:only-of-type {\n",
              "        vertical-align: middle;\n",
              "    }\n",
              "\n",
              "    .dataframe tbody tr th {\n",
              "        vertical-align: top;\n",
              "    }\n",
              "\n",
              "    .dataframe thead th {\n",
              "        text-align: right;\n",
              "    }\n",
              "</style>\n",
              "<table border=\"1\" class=\"dataframe\">\n",
              "  <thead>\n",
              "    <tr style=\"text-align: right;\">\n",
              "      <th></th>\n",
              "      <th>id</th>\n",
              "      <th>gender</th>\n",
              "      <th>age</th>\n",
              "      <th>hypertension</th>\n",
              "      <th>heart_disease</th>\n",
              "      <th>ever_married</th>\n",
              "      <th>work_type</th>\n",
              "      <th>Residence_type</th>\n",
              "      <th>avg_glucose_level</th>\n",
              "      <th>bmi</th>\n",
              "      <th>smoking_status</th>\n",
              "      <th>stroke</th>\n",
              "    </tr>\n",
              "  </thead>\n",
              "  <tbody>\n",
              "    <tr>\n",
              "      <th>0</th>\n",
              "      <td>9046</td>\n",
              "      <td>1</td>\n",
              "      <td>67.0</td>\n",
              "      <td>0</td>\n",
              "      <td>1</td>\n",
              "      <td>1</td>\n",
              "      <td>1</td>\n",
              "      <td>0</td>\n",
              "      <td>228.69</td>\n",
              "      <td>36.6</td>\n",
              "      <td>1</td>\n",
              "      <td>1</td>\n",
              "    </tr>\n",
              "    <tr>\n",
              "      <th>2</th>\n",
              "      <td>31112</td>\n",
              "      <td>1</td>\n",
              "      <td>80.0</td>\n",
              "      <td>0</td>\n",
              "      <td>1</td>\n",
              "      <td>1</td>\n",
              "      <td>1</td>\n",
              "      <td>1</td>\n",
              "      <td>105.92</td>\n",
              "      <td>32.5</td>\n",
              "      <td>0</td>\n",
              "      <td>1</td>\n",
              "    </tr>\n",
              "    <tr>\n",
              "      <th>3</th>\n",
              "      <td>60182</td>\n",
              "      <td>0</td>\n",
              "      <td>49.0</td>\n",
              "      <td>0</td>\n",
              "      <td>0</td>\n",
              "      <td>1</td>\n",
              "      <td>1</td>\n",
              "      <td>0</td>\n",
              "      <td>171.23</td>\n",
              "      <td>34.4</td>\n",
              "      <td>2</td>\n",
              "      <td>1</td>\n",
              "    </tr>\n",
              "    <tr>\n",
              "      <th>4</th>\n",
              "      <td>1665</td>\n",
              "      <td>0</td>\n",
              "      <td>79.0</td>\n",
              "      <td>1</td>\n",
              "      <td>0</td>\n",
              "      <td>1</td>\n",
              "      <td>0</td>\n",
              "      <td>1</td>\n",
              "      <td>174.12</td>\n",
              "      <td>24.0</td>\n",
              "      <td>0</td>\n",
              "      <td>1</td>\n",
              "    </tr>\n",
              "    <tr>\n",
              "      <th>5</th>\n",
              "      <td>56669</td>\n",
              "      <td>1</td>\n",
              "      <td>81.0</td>\n",
              "      <td>0</td>\n",
              "      <td>0</td>\n",
              "      <td>1</td>\n",
              "      <td>1</td>\n",
              "      <td>0</td>\n",
              "      <td>186.21</td>\n",
              "      <td>29.0</td>\n",
              "      <td>1</td>\n",
              "      <td>1</td>\n",
              "    </tr>\n",
              "  </tbody>\n",
              "</table>\n",
              "</div>\n",
              "      <button class=\"colab-df-convert\" onclick=\"convertToInteractive('df-dfe177c8-1967-40b3-8bb1-7e37bc8ab62d')\"\n",
              "              title=\"Convert this dataframe to an interactive table.\"\n",
              "              style=\"display:none;\">\n",
              "        \n",
              "  <svg xmlns=\"http://www.w3.org/2000/svg\" height=\"24px\"viewBox=\"0 0 24 24\"\n",
              "       width=\"24px\">\n",
              "    <path d=\"M0 0h24v24H0V0z\" fill=\"none\"/>\n",
              "    <path d=\"M18.56 5.44l.94 2.06.94-2.06 2.06-.94-2.06-.94-.94-2.06-.94 2.06-2.06.94zm-11 1L8.5 8.5l.94-2.06 2.06-.94-2.06-.94L8.5 2.5l-.94 2.06-2.06.94zm10 10l.94 2.06.94-2.06 2.06-.94-2.06-.94-.94-2.06-.94 2.06-2.06.94z\"/><path d=\"M17.41 7.96l-1.37-1.37c-.4-.4-.92-.59-1.43-.59-.52 0-1.04.2-1.43.59L10.3 9.45l-7.72 7.72c-.78.78-.78 2.05 0 2.83L4 21.41c.39.39.9.59 1.41.59.51 0 1.02-.2 1.41-.59l7.78-7.78 2.81-2.81c.8-.78.8-2.07 0-2.86zM5.41 20L4 18.59l7.72-7.72 1.47 1.35L5.41 20z\"/>\n",
              "  </svg>\n",
              "      </button>\n",
              "      \n",
              "  <style>\n",
              "    .colab-df-container {\n",
              "      display:flex;\n",
              "      flex-wrap:wrap;\n",
              "      gap: 12px;\n",
              "    }\n",
              "\n",
              "    .colab-df-convert {\n",
              "      background-color: #E8F0FE;\n",
              "      border: none;\n",
              "      border-radius: 50%;\n",
              "      cursor: pointer;\n",
              "      display: none;\n",
              "      fill: #1967D2;\n",
              "      height: 32px;\n",
              "      padding: 0 0 0 0;\n",
              "      width: 32px;\n",
              "    }\n",
              "\n",
              "    .colab-df-convert:hover {\n",
              "      background-color: #E2EBFA;\n",
              "      box-shadow: 0px 1px 2px rgba(60, 64, 67, 0.3), 0px 1px 3px 1px rgba(60, 64, 67, 0.15);\n",
              "      fill: #174EA6;\n",
              "    }\n",
              "\n",
              "    [theme=dark] .colab-df-convert {\n",
              "      background-color: #3B4455;\n",
              "      fill: #D2E3FC;\n",
              "    }\n",
              "\n",
              "    [theme=dark] .colab-df-convert:hover {\n",
              "      background-color: #434B5C;\n",
              "      box-shadow: 0px 1px 3px 1px rgba(0, 0, 0, 0.15);\n",
              "      filter: drop-shadow(0px 1px 2px rgba(0, 0, 0, 0.3));\n",
              "      fill: #FFFFFF;\n",
              "    }\n",
              "  </style>\n",
              "\n",
              "      <script>\n",
              "        const buttonEl =\n",
              "          document.querySelector('#df-dfe177c8-1967-40b3-8bb1-7e37bc8ab62d button.colab-df-convert');\n",
              "        buttonEl.style.display =\n",
              "          google.colab.kernel.accessAllowed ? 'block' : 'none';\n",
              "\n",
              "        async function convertToInteractive(key) {\n",
              "          const element = document.querySelector('#df-dfe177c8-1967-40b3-8bb1-7e37bc8ab62d');\n",
              "          const dataTable =\n",
              "            await google.colab.kernel.invokeFunction('convertToInteractive',\n",
              "                                                     [key], {});\n",
              "          if (!dataTable) return;\n",
              "\n",
              "          const docLinkHtml = 'Like what you see? Visit the ' +\n",
              "            '<a target=\"_blank\" href=https://colab.research.google.com/notebooks/data_table.ipynb>data table notebook</a>'\n",
              "            + ' to learn more about interactive tables.';\n",
              "          element.innerHTML = '';\n",
              "          dataTable['output_type'] = 'display_data';\n",
              "          await google.colab.output.renderOutput(dataTable, element);\n",
              "          const docLink = document.createElement('div');\n",
              "          docLink.innerHTML = docLinkHtml;\n",
              "          element.appendChild(docLink);\n",
              "        }\n",
              "      </script>\n",
              "    </div>\n",
              "  </div>\n",
              "  "
            ]
          },
          "metadata": {},
          "execution_count": 7
        }
      ]
    },
    {
      "cell_type": "code",
      "source": [
        "x = data.drop(columns=['stroke'])\n",
        "y = data['stroke']"
      ],
      "metadata": {
        "id": "OGxp22mzeoy6"
      },
      "execution_count": null,
      "outputs": []
    },
    {
      "cell_type": "code",
      "source": [
        "y.value_counts()"
      ],
      "metadata": {
        "colab": {
          "base_uri": "https://localhost:8080/"
        },
        "id": "BvwxVBAKfi71",
        "outputId": "520a0639-0f83-46e6-ea70-740cfb722dbb"
      },
      "execution_count": null,
      "outputs": [
        {
          "output_type": "execute_result",
          "data": {
            "text/plain": [
              "0    3246\n",
              "1     180\n",
              "Name: stroke, dtype: int64"
            ]
          },
          "metadata": {},
          "execution_count": 9
        }
      ]
    },
    {
      "cell_type": "markdown",
      "source": [
        "# LSTM (Uji Test Dataset)"
      ],
      "metadata": {
        "id": "n_vC_eE3M1aw"
      }
    },
    {
      "cell_type": "code",
      "source": [
        "from sklearn.model_selection import train_test_split\n",
        "\n",
        "from keras.models import Sequential\n",
        "from keras.layers import LSTM, Dense, Dropout\n",
        "from keras.callbacks import EarlyStopping\n",
        "from keras.utils import to_categorical"
      ],
      "metadata": {
        "id": "tYGRqK5AeHUB"
      },
      "execution_count": null,
      "outputs": []
    },
    {
      "cell_type": "code",
      "source": [
        "# pembagian data training (80%) dan data test (20%)\n",
        "x_train, x_test, y_train, y_test = train_test_split(x, y, test_size = 0.2, random_state=42)"
      ],
      "metadata": {
        "id": "dNmBoEh1JeFy"
      },
      "execution_count": null,
      "outputs": []
    },
    {
      "cell_type": "code",
      "source": [
        "timesteps = 1 # melihat 1 langkah data yang disimpan sebelumnya\n",
        "input_dim = 10 # jumlah fitur\n",
        "\n",
        "# resize shape data independen\n",
        "x_train_1 = np.resize(x_train, (x_train.shape[0], timesteps, input_dim))\n",
        "x_test_1 = np.resize(x_test, (x_test.shape[0], timesteps, input_dim))"
      ],
      "metadata": {
        "id": "xn56JvqHiv-L"
      },
      "execution_count": null,
      "outputs": []
    },
    {
      "cell_type": "code",
      "source": [
        "x_train_1.shape"
      ],
      "metadata": {
        "colab": {
          "base_uri": "https://localhost:8080/"
        },
        "id": "YTF8m0lFRYnm",
        "outputId": "161b50b9-877a-4326-a3a7-7b424f0e84c5"
      },
      "execution_count": null,
      "outputs": [
        {
          "output_type": "execute_result",
          "data": {
            "text/plain": [
              "(2740, 1, 10)"
            ]
          },
          "metadata": {},
          "execution_count": 13
        }
      ]
    },
    {
      "cell_type": "code",
      "source": [
        "# membuat kedua data y menjadi categorical\n",
        "y_train = to_categorical(y_train)\n",
        "y_test = to_categorical(y_test)"
      ],
      "metadata": {
        "id": "zEplaHFfPt9h"
      },
      "execution_count": null,
      "outputs": []
    },
    {
      "cell_type": "code",
      "source": [
        "# Model Processing\n",
        "model = Sequential()\n",
        "model.add(LSTM(128, return_sequences=True, input_shape=(timesteps, input_dim)))\n",
        "model.add(LSTM(64))\n",
        "model.add(Dense(2, activation='sigmoid'))"
      ],
      "metadata": {
        "id": "KHVgn0_LYKyS"
      },
      "execution_count": null,
      "outputs": []
    },
    {
      "cell_type": "code",
      "source": [
        "# compiling\n",
        "# loss = binary_crossentropy karena output terdiri dari 2 kelas\n",
        "model.compile(optimizer='adam', loss='binary_crossentropy', metrics=['accuracy'])"
      ],
      "metadata": {
        "id": "CxPzdB7hg6x7"
      },
      "execution_count": null,
      "outputs": []
    },
    {
      "cell_type": "code",
      "source": [
        "# model fitting\n",
        "story = model.fit(x_train_1, y_train, epochs=20, batch_size=256, validation_split=0.1, callbacks=[EarlyStopping(monitor='val_loss', patience=7, min_delta=0.0001)])\n",
        "story"
      ],
      "metadata": {
        "colab": {
          "base_uri": "https://localhost:8080/"
        },
        "id": "2EgPD0SchX-e",
        "outputId": "1e5f5108-b685-4feb-da4a-a37fadb617f1"
      },
      "execution_count": null,
      "outputs": [
        {
          "output_type": "stream",
          "name": "stdout",
          "text": [
            "Epoch 1/20\n",
            "10/10 [==============================] - 6s 127ms/step - loss: 0.6320 - accuracy: 0.9266 - val_loss: 0.5650 - val_accuracy: 0.9672\n",
            "Epoch 2/20\n",
            "10/10 [==============================] - 0s 20ms/step - loss: 0.5216 - accuracy: 0.9485 - val_loss: 0.4458 - val_accuracy: 0.9672\n",
            "Epoch 3/20\n",
            "10/10 [==============================] - 0s 19ms/step - loss: 0.4067 - accuracy: 0.9485 - val_loss: 0.3270 - val_accuracy: 0.9672\n",
            "Epoch 4/20\n",
            "10/10 [==============================] - 0s 20ms/step - loss: 0.3086 - accuracy: 0.9485 - val_loss: 0.2418 - val_accuracy: 0.9672\n",
            "Epoch 5/20\n",
            "10/10 [==============================] - 0s 18ms/step - loss: 0.2484 - accuracy: 0.9485 - val_loss: 0.1920 - val_accuracy: 0.9672\n",
            "Epoch 6/20\n",
            "10/10 [==============================] - 0s 30ms/step - loss: 0.2194 - accuracy: 0.9485 - val_loss: 0.1667 - val_accuracy: 0.9672\n",
            "Epoch 7/20\n",
            "10/10 [==============================] - 0s 32ms/step - loss: 0.2066 - accuracy: 0.9485 - val_loss: 0.1566 - val_accuracy: 0.9672\n",
            "Epoch 8/20\n",
            "10/10 [==============================] - 0s 32ms/step - loss: 0.2037 - accuracy: 0.9485 - val_loss: 0.1531 - val_accuracy: 0.9672\n",
            "Epoch 9/20\n",
            "10/10 [==============================] - 0s 33ms/step - loss: 0.2021 - accuracy: 0.9485 - val_loss: 0.1525 - val_accuracy: 0.9672\n",
            "Epoch 10/20\n",
            "10/10 [==============================] - 0s 30ms/step - loss: 0.2012 - accuracy: 0.9485 - val_loss: 0.1529 - val_accuracy: 0.9672\n",
            "Epoch 11/20\n",
            "10/10 [==============================] - 0s 31ms/step - loss: 0.2007 - accuracy: 0.9485 - val_loss: 0.1518 - val_accuracy: 0.9672\n",
            "Epoch 12/20\n",
            "10/10 [==============================] - 0s 34ms/step - loss: 0.2003 - accuracy: 0.9485 - val_loss: 0.1522 - val_accuracy: 0.9672\n",
            "Epoch 13/20\n",
            "10/10 [==============================] - 0s 31ms/step - loss: 0.2002 - accuracy: 0.9485 - val_loss: 0.1513 - val_accuracy: 0.9672\n",
            "Epoch 14/20\n",
            "10/10 [==============================] - 0s 32ms/step - loss: 0.2001 - accuracy: 0.9485 - val_loss: 0.1507 - val_accuracy: 0.9672\n",
            "Epoch 15/20\n",
            "10/10 [==============================] - 0s 34ms/step - loss: 0.1998 - accuracy: 0.9485 - val_loss: 0.1517 - val_accuracy: 0.9672\n",
            "Epoch 16/20\n",
            "10/10 [==============================] - 0s 29ms/step - loss: 0.1997 - accuracy: 0.9485 - val_loss: 0.1511 - val_accuracy: 0.9672\n",
            "Epoch 17/20\n",
            "10/10 [==============================] - 0s 31ms/step - loss: 0.1995 - accuracy: 0.9485 - val_loss: 0.1514 - val_accuracy: 0.9672\n",
            "Epoch 18/20\n",
            "10/10 [==============================] - 0s 32ms/step - loss: 0.1995 - accuracy: 0.9485 - val_loss: 0.1516 - val_accuracy: 0.9672\n",
            "Epoch 19/20\n",
            "10/10 [==============================] - 0s 30ms/step - loss: 0.1993 - accuracy: 0.9485 - val_loss: 0.1513 - val_accuracy: 0.9672\n",
            "Epoch 20/20\n",
            "10/10 [==============================] - 0s 27ms/step - loss: 0.1993 - accuracy: 0.9485 - val_loss: 0.1510 - val_accuracy: 0.9672\n"
          ]
        },
        {
          "output_type": "execute_result",
          "data": {
            "text/plain": [
              "<keras.callbacks.History at 0x7fe24ed49f90>"
            ]
          },
          "metadata": {},
          "execution_count": 17
        }
      ]
    },
    {
      "cell_type": "code",
      "source": [
        "# logging = untuk melihat grafik proses training pada model\n",
        "import matplotlib.pyplot as plt\n",
        "\n",
        "metrics = story.history\n",
        "plt.plot(story.epoch, 100*np.array(metrics['accuracy']), 100*np.array(metrics['val_accuracy']))\n",
        "# dikalikan 100 karena ingin menampilan value dalam [%]\n",
        "\n",
        "# biru = training accuracy\n",
        "# orange = validation accuracy\n",
        "plt.legend(['accuracy'], ['val_accuracy'])\n",
        "plt.xlabel('Epoch')\n",
        "plt.ylabel('Accuracy [%]')"
      ],
      "metadata": {
        "colab": {
          "base_uri": "https://localhost:8080/",
          "height": 536
        },
        "id": "SWI6aRDUnPfZ",
        "outputId": "38026c62-177a-40e8-df7a-d9cc3af7eda3"
      },
      "execution_count": null,
      "outputs": [
        {
          "output_type": "stream",
          "name": "stderr",
          "text": [
            "<ipython-input-18-c8f822d287a3>:10: UserWarning: Legend does not support handles for str instances.\n",
            "A proxy artist may be used instead.\n",
            "See: https://matplotlib.org/stable/tutorials/intermediate/legend_guide.html#controlling-the-legend-entries\n",
            "  plt.legend(['accuracy'], ['val_accuracy'])\n"
          ]
        },
        {
          "output_type": "execute_result",
          "data": {
            "text/plain": [
              "Text(0, 0.5, 'Accuracy [%]')"
            ]
          },
          "metadata": {},
          "execution_count": 18
        },
        {
          "output_type": "display_data",
          "data": {
            "text/plain": [
              "<Figure size 640x480 with 1 Axes>"
            ],
            "image/png": "[encoded data removed]"
          },
          "metadata": {}
        }
      ]
    },
    {
      "cell_type": "code",
      "source": [
        "# Evaluasi model\n",
        "model.evaluate(x_test_1,y_test)"
      ],
      "metadata": {
        "colab": {
          "base_uri": "https://localhost:8080/"
        },
        "id": "KxPL_pOtKzvz",
        "outputId": "d5402a84-d26d-4197-9dc0-1a0e2fc11a18"
      },
      "execution_count": null,
      "outputs": [
        {
          "output_type": "stream",
          "name": "stdout",
          "text": [
            "22/22 [==============================] - 0s 3ms/step - loss: 0.2446 - accuracy: 0.9359\n"
          ]
        },
        {
          "output_type": "execute_result",
          "data": {
            "text/plain": [
              "[0.24458105862140656, 0.9358600378036499]"
            ]
          },
          "metadata": {},
          "execution_count": 19
        }
      ]
    },
    {
      "cell_type": "code",
      "source": [
        "# input library yang dipakai untuk performance metrics\n",
        "import sklearn\n",
        "from sklearn.metrics import precision_recall_fscore_support as score\n",
        "from sklearn.metrics import accuracy_score"
      ],
      "metadata": {
        "id": "l9q1uzQqK01w"
      },
      "execution_count": null,
      "outputs": []
    },
    {
      "cell_type": "code",
      "source": [
        "# predict output\n",
        "y_pred_lstm = model.predict(x_test_1)\n",
        "y_pred_lstm"
      ],
      "metadata": {
        "colab": {
          "base_uri": "https://localhost:8080/"
        },
        "id": "FnZ6uXs5K9A_",
        "outputId": "31db937e-9069-4e88-f5e0-48e4cd15dde7"
      },
      "execution_count": null,
      "outputs": [
        {
          "output_type": "stream",
          "name": "stdout",
          "text": [
            "22/22 [==============================] - 1s 3ms/step\n"
          ]
        },
        {
          "output_type": "execute_result",
          "data": {
            "text/plain": [
              "array([[0.9620705 , 0.03720302],\n",
              "       [0.93271774, 0.06730092],\n",
              "       [0.94490236, 0.05326706],\n",
              "       ...,\n",
              "       [0.93271774, 0.06730092],\n",
              "       [0.94490236, 0.05326705],\n",
              "       [0.96188575, 0.03863114]], dtype=float32)"
            ]
          },
          "metadata": {},
          "execution_count": 21
        }
      ]
    },
    {
      "cell_type": "code",
      "source": [
        "# show the accuracy\n",
        "accuracy = accuracy_score(np.argmax(y_test, axis=1), np.argmax(y_pred_lstm, axis=1))\n",
        "accuracy"
      ],
      "metadata": {
        "colab": {
          "base_uri": "https://localhost:8080/"
        },
        "id": "1k0fLprNK_Lr",
        "outputId": "b7305147-dbe1-4130-dbcf-e535df61faf3"
      },
      "execution_count": null,
      "outputs": [
        {
          "output_type": "execute_result",
          "data": {
            "text/plain": [
              "0.9358600583090378"
            ]
          },
          "metadata": {},
          "execution_count": 22
        }
      ]
    },
    {
      "cell_type": "code",
      "source": [
        "# Tampilkan Nilai Performasi Metrik nya\n",
        "precision, recall, fscore, support = score(np.argmax(y_test, axis=1), np.argmax(y_pred_lstm, axis=1))\n",
        "\n",
        "print('accuracy  : {}'.format(accuracy))\n",
        "print('precision : {}'.format(precision))\n",
        "print('recall    : {}'.format(recall))\n",
        "print('f1_score  : {}'.format(fscore))\n",
        "print('support   : {}'.format(support))\n",
        "print('\\n')\n",
        "\n",
        "print(sklearn.metrics.classification_report(np.argmax(y_test, axis=1), np.argmax(y_pred_lstm, axis=1)))"
      ],
      "metadata": {
        "colab": {
          "base_uri": "https://localhost:8080/"
        },
        "id": "hLqbbnELLUrW",
        "outputId": "fad2c397-7f72-4b06-a1eb-eb66a6534cbb"
      },
      "execution_count": null,
      "outputs": [
        {
          "output_type": "stream",
          "name": "stdout",
          "text": [
            "accuracy  : 0.9358600583090378\n",
            "precision : [0.93586006 0.        ]\n",
            "recall    : [1. 0.]\n",
            "f1_score  : [0.96686747 0.        ]\n",
            "support   : [642  44]\n",
            "\n",
            "\n",
            "              precision    recall  f1-score   support\n",
            "\n",
            "           0       0.94      1.00      0.97       642\n",
            "           1       0.00      0.00      0.00        44\n",
            "\n",
            "    accuracy                           0.94       686\n",
            "   macro avg       0.47      0.50      0.48       686\n",
            "weighted avg       0.88      0.94      0.90       686\n",
            "\n"
          ]
        },
        {
          "output_type": "stream",
          "name": "stderr",
          "text": [
            "/usr/local/lib/python3.10/dist-packages/sklearn/metrics/_classification.py:1344: UndefinedMetricWarning: Precision and F-score are ill-defined and being set to 0.0 in labels with no predicted samples. Use `zero_division` parameter to control this behavior.\n",
            "  _warn_prf(average, modifier, msg_start, len(result))\n",
            "/usr/local/lib/python3.10/dist-packages/sklearn/metrics/_classification.py:1344: UndefinedMetricWarning: Precision and F-score are ill-defined and being set to 0.0 in labels with no predicted samples. Use `zero_division` parameter to control this behavior.\n",
            "  _warn_prf(average, modifier, msg_start, len(result))\n",
            "/usr/local/lib/python3.10/dist-packages/sklearn/metrics/_classification.py:1344: UndefinedMetricWarning: Precision and F-score are ill-defined and being set to 0.0 in labels with no predicted samples. Use `zero_division` parameter to control this behavior.\n",
            "  _warn_prf(average, modifier, msg_start, len(result))\n",
            "/usr/local/lib/python3.10/dist-packages/sklearn/metrics/_classification.py:1344: UndefinedMetricWarning: Precision and F-score are ill-defined and being set to 0.0 in labels with no predicted samples. Use `zero_division` parameter to control this behavior.\n",
            "  _warn_prf(average, modifier, msg_start, len(result))\n"
          ]
        }
      ]
    },
    {
      "cell_type": "markdown",
      "source": [
        "# LSTM (Uji Semua Dataset sampel)"
      ],
      "metadata": {
        "id": "T0_zHKa3zX6m"
      }
    },
    {
      "cell_type": "code",
      "source": [
        "timesteps = 1\n",
        "input_dim = 10\n",
        "\n",
        "x = np.resize(x, (x.shape[0], timesteps, input_dim))\n",
        "y = to_categorical(y)"
      ],
      "metadata": {
        "id": "5maD4ogiLr1A"
      },
      "execution_count": null,
      "outputs": []
    },
    {
      "cell_type": "code",
      "source": [
        "model.summary()"
      ],
      "metadata": {
        "colab": {
          "base_uri": "https://localhost:8080/"
        },
        "id": "u7amgwVNKBhe",
        "outputId": "e0868a07-c222-4fcf-8582-98f1469c8855"
      },
      "execution_count": null,
      "outputs": [
        {
          "output_type": "stream",
          "name": "stdout",
          "text": [
            "Model: \"sequential\"\n",
            "_________________________________________________________________\n",
            " Layer (type)                Output Shape              Param #   \n",
            "=================================================================\n",
            " lstm (LSTM)                 (None, 1, 128)            71168     \n",
            "                                                                 \n",
            " lstm_1 (LSTM)               (None, 64)                49408     \n",
            "                                                                 \n",
            " dense (Dense)               (None, 2)                 130       \n",
            "                                                                 \n",
            "=================================================================\n",
            "Total params: 120,706\n",
            "Trainable params: 120,706\n",
            "Non-trainable params: 0\n",
            "_________________________________________________________________\n"
          ]
        }
      ]
    },
    {
      "cell_type": "code",
      "source": [
        "History = model.fit(x, y, epochs=20, batch_size=256, validation_split=0.1, callbacks=[EarlyStopping(monitor='val_loss', patience=7, min_delta=0.0001)])\n",
        "History"
      ],
      "metadata": {
        "colab": {
          "base_uri": "https://localhost:8080/"
        },
        "id": "R1os1kB-yUGg",
        "outputId": "65841a55-8f21-43f6-a433-7274538255ba"
      },
      "execution_count": null,
      "outputs": [
        {
          "output_type": "stream",
          "name": "stdout",
          "text": [
            "Epoch 1/20\n",
            "13/13 [==============================] - 0s 22ms/step - loss: 0.2242 - accuracy: 0.9416 - val_loss: 0.0565 - val_accuracy: 1.0000\n",
            "Epoch 2/20\n",
            "13/13 [==============================] - 0s 17ms/step - loss: 0.2231 - accuracy: 0.9416 - val_loss: 0.0639 - val_accuracy: 1.0000\n",
            "Epoch 3/20\n",
            "13/13 [==============================] - 0s 20ms/step - loss: 0.2220 - accuracy: 0.9416 - val_loss: 0.0563 - val_accuracy: 1.0000\n",
            "Epoch 4/20\n",
            "13/13 [==============================] - 0s 18ms/step - loss: 0.2213 - accuracy: 0.9416 - val_loss: 0.0554 - val_accuracy: 1.0000\n",
            "Epoch 5/20\n",
            "13/13 [==============================] - 0s 19ms/step - loss: 0.2209 - accuracy: 0.9416 - val_loss: 0.0575 - val_accuracy: 1.0000\n",
            "Epoch 6/20\n",
            "13/13 [==============================] - 0s 18ms/step - loss: 0.2199 - accuracy: 0.9416 - val_loss: 0.0585 - val_accuracy: 1.0000\n",
            "Epoch 7/20\n",
            "13/13 [==============================] - 0s 20ms/step - loss: 0.2202 - accuracy: 0.9416 - val_loss: 0.0572 - val_accuracy: 1.0000\n",
            "Epoch 8/20\n",
            "13/13 [==============================] - 0s 20ms/step - loss: 0.2199 - accuracy: 0.9416 - val_loss: 0.0557 - val_accuracy: 1.0000\n",
            "Epoch 9/20\n",
            "13/13 [==============================] - 0s 18ms/step - loss: 0.2194 - accuracy: 0.9416 - val_loss: 0.0595 - val_accuracy: 1.0000\n",
            "Epoch 10/20\n",
            "13/13 [==============================] - 0s 18ms/step - loss: 0.2196 - accuracy: 0.9416 - val_loss: 0.0654 - val_accuracy: 1.0000\n",
            "Epoch 11/20\n",
            "13/13 [==============================] - 0s 18ms/step - loss: 0.2194 - accuracy: 0.9416 - val_loss: 0.0568 - val_accuracy: 1.0000\n"
          ]
        },
        {
          "output_type": "execute_result",
          "data": {
            "text/plain": [
              "<keras.callbacks.History at 0x7fe24f535ba0>"
            ]
          },
          "metadata": {},
          "execution_count": 26
        }
      ]
    },
    {
      "cell_type": "code",
      "source": [
        "import matplotlib.pyplot as plt\n",
        "\n",
        "metrics = History.history\n",
        "plt.plot(History.epoch, 100*np.array(metrics['accuracy']), 100*np.array(metrics['val_accuracy']))\n",
        "plt.legend(['accuracy'], ['val_accuracy'])\n",
        "plt.xlabel('Epoch')\n",
        "plt.ylabel('Accuracy [%]')"
      ],
      "metadata": {
        "colab": {
          "base_uri": "https://localhost:8080/",
          "height": 536
        },
        "id": "Kw4ZN72IKaYF",
        "outputId": "bf40e6dc-d4f5-4292-9bdc-f45fba599ba0"
      },
      "execution_count": null,
      "outputs": [
        {
          "output_type": "stream",
          "name": "stderr",
          "text": [
            "<ipython-input-27-b9119b21f9d2>:5: UserWarning: Legend does not support handles for str instances.\n",
            "A proxy artist may be used instead.\n",
            "See: https://matplotlib.org/stable/tutorials/intermediate/legend_guide.html#controlling-the-legend-entries\n",
            "  plt.legend(['accuracy'], ['val_accuracy'])\n"
          ]
        },
        {
          "output_type": "execute_result",
          "data": {
            "text/plain": [
              "Text(0, 0.5, 'Accuracy [%]')"
            ]
          },
          "metadata": {},
          "execution_count": 27
        },
        {
          "output_type": "display_data",
          "data": {
            "text/plain": [
              "<Figure size 640x480 with 1 Axes>"
            ],
            "image/png": "[encoded data removed]"
          },
          "metadata": {}
        }
      ]
    },
    {
      "cell_type": "code",
      "source": [
        "model.evaluate(x,y)"
      ],
      "metadata": {
        "colab": {
          "base_uri": "https://localhost:8080/"
        },
        "id": "-AOd_VINybZU",
        "outputId": "48f9bf99-8bc4-4974-dc34-fc359efb6c68"
      },
      "execution_count": null,
      "outputs": [
        {
          "output_type": "stream",
          "name": "stdout",
          "text": [
            "108/108 [==============================] - 0s 4ms/step - loss: 0.2027 - accuracy: 0.9475\n"
          ]
        },
        {
          "output_type": "execute_result",
          "data": {
            "text/plain": [
              "[0.20268084108829498, 0.9474605917930603]"
            ]
          },
          "metadata": {},
          "execution_count": 28
        }
      ]
    },
    {
      "cell_type": "code",
      "source": [
        "y_pred = model.predict(x)\n",
        "y_pred"
      ],
      "metadata": {
        "colab": {
          "base_uri": "https://localhost:8080/"
        },
        "id": "9mB-wOzYynen",
        "outputId": "9db7a9db-5eed-49e4-bead-ad61b8ba353b"
      },
      "execution_count": null,
      "outputs": [
        {
          "output_type": "stream",
          "name": "stdout",
          "text": [
            "108/108 [==============================] - 0s 4ms/step\n"
          ]
        },
        {
          "output_type": "execute_result",
          "data": {
            "text/plain": [
              "array([[0.9309666 , 0.0708975 ],\n",
              "       [0.9414736 , 0.05624506],\n",
              "       [0.9281589 , 0.06595271],\n",
              "       ...,\n",
              "       [0.9281589 , 0.06595269],\n",
              "       [0.9447748 , 0.05375005],\n",
              "       [0.95127445, 0.04510274]], dtype=float32)"
            ]
          },
          "metadata": {},
          "execution_count": 29
        }
      ]
    },
    {
      "cell_type": "code",
      "source": [
        "print(sklearn.metrics.classification_report(np.argmax(y, axis=1), np.argmax(y_pred, axis=1)))"
      ],
      "metadata": {
        "colab": {
          "base_uri": "https://localhost:8080/"
        },
        "id": "Ab-YUm65ys_U",
        "outputId": "8102c7d8-36cd-4bc5-d2b2-8d40def476f6"
      },
      "execution_count": null,
      "outputs": [
        {
          "output_type": "stream",
          "name": "stdout",
          "text": [
            "              precision    recall  f1-score   support\n",
            "\n",
            "           0       0.95      1.00      0.97      3246\n",
            "           1       0.00      0.00      0.00       180\n",
            "\n",
            "    accuracy                           0.95      3426\n",
            "   macro avg       0.47      0.50      0.49      3426\n",
            "weighted avg       0.90      0.95      0.92      3426\n",
            "\n"
          ]
        },
        {
          "output_type": "stream",
          "name": "stderr",
          "text": [
            "/usr/local/lib/python3.10/dist-packages/sklearn/metrics/_classification.py:1344: UndefinedMetricWarning: Precision and F-score are ill-defined and being set to 0.0 in labels with no predicted samples. Use `zero_division` parameter to control this behavior.\n",
            "  _warn_prf(average, modifier, msg_start, len(result))\n",
            "/usr/local/lib/python3.10/dist-packages/sklearn/metrics/_classification.py:1344: UndefinedMetricWarning: Precision and F-score are ill-defined and being set to 0.0 in labels with no predicted samples. Use `zero_division` parameter to control this behavior.\n",
            "  _warn_prf(average, modifier, msg_start, len(result))\n",
            "/usr/local/lib/python3.10/dist-packages/sklearn/metrics/_classification.py:1344: UndefinedMetricWarning: Precision and F-score are ill-defined and being set to 0.0 in labels with no predicted samples. Use `zero_division` parameter to control this behavior.\n",
            "  _warn_prf(average, modifier, msg_start, len(result))\n"
          ]
        }
      ]
    }
  ]
}