{
  "nbformat": 4,
  "nbformat_minor": 0,
  "metadata": {
    "colab": {
      "provenance": []
    },
    "kernelspec": {
      "name": "python3",
      "display_name": "Python 3"
    },
    "language_info": {
      "name": "python"
    }
  },
  "cells": [
    {
      "cell_type": "markdown",
      "source": [
        "# Preliminaries"
      ],
      "metadata": {
        "id": "wmlXQRMAzc-v"
      }
    },
    {
      "cell_type": "code",
      "source": [
        "import pandas as pd\n",
        "import numpy as np\n",
        "\n",
        "from sklearn.model_selection import train_test_split\n",
        "\n",
        "from keras.utils import to_categorical\n",
        "from keras.callbacks import EarlyStopping\n",
        "\n",
        "from sklearn.compose import ColumnTransformer\n",
        "from sklearn.preprocessing import OneHotEncoder, StandardScaler\n",
        "\n",
        "from sklearn.neural_network import MLPClassifier\n",
        "\n",
        "from sklearn.metrics import accuracy_score, classification_report, confusion_matrix\n",
        "\n",
        "import matplotlib.pyplot as plt\n",
        "import seaborn as sns"
      ],
      "metadata": {
        "id": "UL8fGc4Vwo8W"
      },
      "execution_count": null,
      "outputs": []
    },
    {
      "cell_type": "code",
      "source": [
        "dataset = pd.read_csv(\"/content/healthcare-dataset-stroke-data.csv\")\n",
        "\n",
        "print(dataset.shape)\n",
        "dataset.head()"
      ],
      "metadata": {
        "colab": {
          "base_uri": "https://localhost:8080/",
          "height": 224
        },
        "id": "1xe1X8Ilwpb-",
        "outputId": "f4730bbb-6855-42c6-9ec0-94099403be7e"
      },
      "execution_count": null,
      "outputs": [
        {
          "output_type": "stream",
          "name": "stdout",
          "text": [
            "(5110, 12)\n"
          ]
        },
        {
          "output_type": "execute_result",
          "data": {
            "text/plain": [
              "      id  gender   age  hypertension  heart_disease ever_married  \\\n",
              "0   9046    Male  67.0             0              1          Yes   \n",
              "1  51676  Female  61.0             0              0          Yes   \n",
              "2  31112    Male  80.0             0              1          Yes   \n",
              "3  60182  Female  49.0             0              0          Yes   \n",
              "4   1665  Female  79.0             1              0          Yes   \n",
              "\n",
              "       work_type Residence_type  avg_glucose_level   bmi   smoking_status  \\\n",
              "0        Private          Urban             228.69  36.6  formerly smoked   \n",
              "1  Self-employed          Rural             202.21   NaN     never smoked   \n",
              "2        Private          Rural             105.92  32.5     never smoked   \n",
              "3        Private          Urban             171.23  34.4           smokes   \n",
              "4  Self-employed          Rural             174.12  24.0     never smoked   \n",
              "\n",
              "   stroke  \n",
              "0       1  \n",
              "1       1  \n",
              "2       1  \n",
              "3       1  \n",
              "4       1  "
            ],
            "text/html": [
              "\n",
              "  <div id=\"df-dc6d28ca-7457-4eca-8c6f-28788938af35\">\n",
              "    <div class=\"colab-df-container\">\n",
              "      <div>\n",
              "<style scoped>\n",
              "    .dataframe tbody tr th:only-of-type {\n",
              "        vertical-align: middle;\n",
              "    }\n",
              "\n",
              "    .dataframe tbody tr th {\n",
              "        vertical-align: top;\n",
              "    }\n",
              "\n",
              "    .dataframe thead th {\n",
              "        text-align: right;\n",
              "    }\n",
              "</style>\n",
              "<table border=\"1\" class=\"dataframe\">\n",
              "  <thead>\n",
              "    <tr style=\"text-align: right;\">\n",
              "      <th></th>\n",
              "      <th>id</th>\n",
              "      <th>gender</th>\n",
              "      <th>age</th>\n",
              "      <th>hypertension</th>\n",
              "      <th>heart_disease</th>\n",
              "      <th>ever_married</th>\n",
              "      <th>work_type</th>\n",
              "      <th>Residence_type</th>\n",
              "      <th>avg_glucose_level</th>\n",
              "      <th>bmi</th>\n",
              "      <th>smoking_status</th>\n",
              "      <th>stroke</th>\n",
              "    </tr>\n",
              "  </thead>\n",
              "  <tbody>\n",
              "    <tr>\n",
              "      <th>0</th>\n",
              "      <td>9046</td>\n",
              "      <td>Male</td>\n",
              "      <td>67.0</td>\n",
              "      <td>0</td>\n",
              "      <td>1</td>\n",
              "      <td>Yes</td>\n",
              "      <td>Private</td>\n",
              "      <td>Urban</td>\n",
              "      <td>228.69</td>\n",
              "      <td>36.6</td>\n",
              "      <td>formerly smoked</td>\n",
              "      <td>1</td>\n",
              "    </tr>\n",
              "    <tr>\n",
              "      <th>1</th>\n",
              "      <td>51676</td>\n",
              "      <td>Female</td>\n",
              "      <td>61.0</td>\n",
              "      <td>0</td>\n",
              "      <td>0</td>\n",
              "      <td>Yes</td>\n",
              "      <td>Self-employed</td>\n",
              "      <td>Rural</td>\n",
              "      <td>202.21</td>\n",
              "      <td>NaN</td>\n",
              "      <td>never smoked</td>\n",
              "      <td>1</td>\n",
              "    </tr>\n",
              "    <tr>\n",
              "      <th>2</th>\n",
              "      <td>31112</td>\n",
              "      <td>Male</td>\n",
              "      <td>80.0</td>\n",
              "      <td>0</td>\n",
              "      <td>1</td>\n",
              "      <td>Yes</td>\n",
              "      <td>Private</td>\n",
              "      <td>Rural</td>\n",
              "      <td>105.92</td>\n",
              "      <td>32.5</td>\n",
              "      <td>never smoked</td>\n",
              "      <td>1</td>\n",
              "    </tr>\n",
              "    <tr>\n",
              "      <th>3</th>\n",
              "      <td>60182</td>\n",
              "      <td>Female</td>\n",
              "      <td>49.0</td>\n",
              "      <td>0</td>\n",
              "      <td>0</td>\n",
              "      <td>Yes</td>\n",
              "      <td>Private</td>\n",
              "      <td>Urban</td>\n",
              "      <td>171.23</td>\n",
              "      <td>34.4</td>\n",
              "      <td>smokes</td>\n",
              "      <td>1</td>\n",
              "    </tr>\n",
              "    <tr>\n",
              "      <th>4</th>\n",
              "      <td>1665</td>\n",
              "      <td>Female</td>\n",
              "      <td>79.0</td>\n",
              "      <td>1</td>\n",
              "      <td>0</td>\n",
              "      <td>Yes</td>\n",
              "      <td>Self-employed</td>\n",
              "      <td>Rural</td>\n",
              "      <td>174.12</td>\n",
              "      <td>24.0</td>\n",
              "      <td>never smoked</td>\n",
              "      <td>1</td>\n",
              "    </tr>\n",
              "  </tbody>\n",
              "</table>\n",
              "</div>\n",
              "      <button class=\"colab-df-convert\" onclick=\"convertToInteractive('df-dc6d28ca-7457-4eca-8c6f-28788938af35')\"\n",
              "              title=\"Convert this dataframe to an interactive table.\"\n",
              "              style=\"display:none;\">\n",
              "        \n",
              "  <svg xmlns=\"http://www.w3.org/2000/svg\" height=\"24px\"viewBox=\"0 0 24 24\"\n",
              "       width=\"24px\">\n",
              "    <path d=\"M0 0h24v24H0V0z\" fill=\"none\"/>\n",
              "    <path d=\"M18.56 5.44l.94 2.06.94-2.06 2.06-.94-2.06-.94-.94-2.06-.94 2.06-2.06.94zm-11 1L8.5 8.5l.94-2.06 2.06-.94-2.06-.94L8.5 2.5l-.94 2.06-2.06.94zm10 10l.94 2.06.94-2.06 2.06-.94-2.06-.94-.94-2.06-.94 2.06-2.06.94z\"/><path d=\"M17.41 7.96l-1.37-1.37c-.4-.4-.92-.59-1.43-.59-.52 0-1.04.2-1.43.59L10.3 9.45l-7.72 7.72c-.78.78-.78 2.05 0 2.83L4 21.41c.39.39.9.59 1.41.59.51 0 1.02-.2 1.41-.59l7.78-7.78 2.81-2.81c.8-.78.8-2.07 0-2.86zM5.41 20L4 18.59l7.72-7.72 1.47 1.35L5.41 20z\"/>\n",
              "  </svg>\n",
              "      </button>\n",
              "      \n",
              "  <style>\n",
              "    .colab-df-container {\n",
              "      display:flex;\n",
              "      flex-wrap:wrap;\n",
              "      gap: 12px;\n",
              "    }\n",
              "\n",
              "    .colab-df-convert {\n",
              "      background-color: #E8F0FE;\n",
              "      border: none;\n",
              "      border-radius: 50%;\n",
              "      cursor: pointer;\n",
              "      display: none;\n",
              "      fill: #1967D2;\n",
              "      height: 32px;\n",
              "      padding: 0 0 0 0;\n",
              "      width: 32px;\n",
              "    }\n",
              "\n",
              "    .colab-df-convert:hover {\n",
              "      background-color: #E2EBFA;\n",
              "      box-shadow: 0px 1px 2px rgba(60, 64, 67, 0.3), 0px 1px 3px 1px rgba(60, 64, 67, 0.15);\n",
              "      fill: #174EA6;\n",
              "    }\n",
              "\n",
              "    [theme=dark] .colab-df-convert {\n",
              "      background-color: #3B4455;\n",
              "      fill: #D2E3FC;\n",
              "    }\n",
              "\n",
              "    [theme=dark] .colab-df-convert:hover {\n",
              "      background-color: #434B5C;\n",
              "      box-shadow: 0px 1px 3px 1px rgba(0, 0, 0, 0.15);\n",
              "      filter: drop-shadow(0px 1px 2px rgba(0, 0, 0, 0.3));\n",
              "      fill: #FFFFFF;\n",
              "    }\n",
              "  </style>\n",
              "\n",
              "      <script>\n",
              "        const buttonEl =\n",
              "          document.querySelector('#df-dc6d28ca-7457-4eca-8c6f-28788938af35 button.colab-df-convert');\n",
              "        buttonEl.style.display =\n",
              "          google.colab.kernel.accessAllowed ? 'block' : 'none';\n",
              "\n",
              "        async function convertToInteractive(key) {\n",
              "          const element = document.querySelector('#df-dc6d28ca-7457-4eca-8c6f-28788938af35');\n",
              "          const dataTable =\n",
              "            await google.colab.kernel.invokeFunction('convertToInteractive',\n",
              "                                                     [key], {});\n",
              "          if (!dataTable) return;\n",
              "\n",
              "          const docLinkHtml = 'Like what you see? Visit the ' +\n",
              "            '<a target=\"_blank\" href=https://colab.research.google.com/notebooks/data_table.ipynb>data table notebook</a>'\n",
              "            + ' to learn more about interactive tables.';\n",
              "          element.innerHTML = '';\n",
              "          dataTable['output_type'] = 'display_data';\n",
              "          await google.colab.output.renderOutput(dataTable, element);\n",
              "          const docLink = document.createElement('div');\n",
              "          docLink.innerHTML = docLinkHtml;\n",
              "          element.appendChild(docLink);\n",
              "        }\n",
              "      </script>\n",
              "    </div>\n",
              "  </div>\n",
              "  "
            ]
          },
          "metadata": {},
          "execution_count": 364
        }
      ]
    },
    {
      "cell_type": "markdown",
      "source": [
        "# Preprocessing"
      ],
      "metadata": {
        "id": "lS4Yko7zzkKP"
      }
    },
    {
      "cell_type": "markdown",
      "source": [
        "### Cleaning data\n",
        "Pada langkah ini dilakukan pembuangan kolom id dan pembuangan sample-sample dengan nilai `bmi` null dan/atau nilai `smoking_status` \"Unknown\"."
      ],
      "metadata": {
        "id": "iBoBxW8GOxXv"
      }
    },
    {
      "cell_type": "code",
      "source": [
        "dataset = dataset.drop(columns=['id'])\n",
        "dataset = dataset[dataset['bmi'].notna()]\n",
        "dataset = dataset[dataset.smoking_status != \"Unknown\"]"
      ],
      "metadata": {
        "id": "XalRysj3xCLT"
      },
      "execution_count": null,
      "outputs": []
    },
    {
      "cell_type": "code",
      "source": [
        "x = dataset.drop(columns=['stroke'])\n",
        "y = dataset['stroke']"
      ],
      "metadata": {
        "id": "fXR7AkO-xCzb"
      },
      "execution_count": null,
      "outputs": []
    },
    {
      "cell_type": "code",
      "source": [
        "y.value_counts()"
      ],
      "metadata": {
        "colab": {
          "base_uri": "https://localhost:8080/"
        },
        "id": "4x2NJ2jvN-2z",
        "outputId": "13862d14-2449-4346-f855-53ab4c34358c"
      },
      "execution_count": null,
      "outputs": [
        {
          "output_type": "execute_result",
          "data": {
            "text/plain": [
              "0    3246\n",
              "1     180\n",
              "Name: stroke, dtype: int64"
            ]
          },
          "metadata": {},
          "execution_count": 367
        }
      ]
    },
    {
      "cell_type": "markdown",
      "source": [
        "## Random oversampling\n",
        "Pada langkah ini dilakukan upaya resampling untuk memitigasi pengaruh keadaan \"under-represented\" dari sample-sample dengan value `stroke` bernilai 1.\n",
        "\n"
      ],
      "metadata": {
        "id": "CeqALI2uB2yb"
      }
    },
    {
      "cell_type": "code",
      "source": [
        "from imblearn.over_sampling import RandomOverSampler"
      ],
      "metadata": {
        "id": "YdxCTyrIKJ7U"
      },
      "execution_count": null,
      "outputs": []
    },
    {
      "cell_type": "code",
      "source": [
        "resampler = RandomOverSampler(sampling_strategy={0: 3246, 1: 3246}, random_state=42)\n",
        "x_resampled, y_resampled = resampler.fit_resample(x, y)"
      ],
      "metadata": {
        "id": "wjKN0IOFKbiU"
      },
      "execution_count": null,
      "outputs": []
    },
    {
      "cell_type": "code",
      "source": [
        "y_resampled.value_counts()"
      ],
      "metadata": {
        "colab": {
          "base_uri": "https://localhost:8080/"
        },
        "id": "bp0yMFvKB7fC",
        "outputId": "6ac6c3b7-c454-4750-e0e9-d42109e2892b"
      },
      "execution_count": null,
      "outputs": [
        {
          "output_type": "execute_result",
          "data": {
            "text/plain": [
              "1    3246\n",
              "0    3246\n",
              "Name: stroke, dtype: int64"
            ]
          },
          "metadata": {},
          "execution_count": 370
        }
      ]
    },
    {
      "cell_type": "markdown",
      "source": [
        "## Shaping dataset\n",
        "Untuk mengubah feature-feature yang bersifat \"categorical\", digunakan metode one-hot encoding."
      ],
      "metadata": {
        "id": "g9O7WZaNBzQH"
      }
    },
    {
      "cell_type": "code",
      "source": [
        "oneHotEncoding = ColumnTransformer(transformers = [('encoder', OneHotEncoder(), [0,4,5,6,9])], remainder='passthrough')\n",
        "x_resampled = np.array(oneHotEncoding.fit_transform(x_resampled))\n",
        "print(x_resampled)"
      ],
      "metadata": {
        "colab": {
          "base_uri": "https://localhost:8080/"
        },
        "id": "nxz8gCW5xEJG",
        "outputId": "12418b1f-a159-40e5-f4c6-95765366308c"
      },
      "execution_count": null,
      "outputs": [
        {
          "output_type": "stream",
          "name": "stdout",
          "text": [
            "[[  0.     1.     0.   ...   1.   228.69  36.6 ]\n",
            " [  0.     1.     0.   ...   1.   105.92  32.5 ]\n",
            " [  1.     0.     0.   ...   0.   171.23  34.4 ]\n",
            " ...\n",
            " [  0.     1.     0.   ...   0.   249.31  35.8 ]\n",
            " [  1.     0.     0.   ...   0.   205.35  42.2 ]\n",
            " [  0.     1.     0.   ...   1.   144.9   26.4 ]]\n"
          ]
        }
      ]
    },
    {
      "cell_type": "code",
      "source": [
        "x_train, x_test, y_train, y_test = train_test_split(x_resampled, y_resampled, test_size = 0.2, random_state=42)"
      ],
      "metadata": {
        "id": "iBhRjWz_xFaG"
      },
      "execution_count": null,
      "outputs": []
    },
    {
      "cell_type": "code",
      "source": [
        "y_train_1 = to_categorical(y_train)\n",
        "y_test_1 = to_categorical(y_test)\n",
        "y_1 = to_categorical(y_resampled)"
      ],
      "metadata": {
        "id": "MQiGKOV2xzcK"
      },
      "execution_count": null,
      "outputs": []
    },
    {
      "cell_type": "markdown",
      "source": [
        "## Scaling input data"
      ],
      "metadata": {
        "id": "xEI_-DAkNQZr"
      }
    },
    {
      "cell_type": "code",
      "source": [
        "scaler = StandardScaler()\n",
        "x_train_scaled = scaler.fit_transform(x_train)\n",
        "x_test_scaled = scaler.transform(x_test)"
      ],
      "metadata": {
        "id": "s-SCvoj3NTbu"
      },
      "execution_count": null,
      "outputs": []
    },
    {
      "cell_type": "markdown",
      "source": [
        "# MLP training"
      ],
      "metadata": {
        "id": "BZ7FCurxznvK"
      }
    },
    {
      "cell_type": "code",
      "source": [
        "mlp = MLPClassifier(hidden_layer_sizes=(100, 100, 100), max_iter=1000, early_stopping=True, validation_fraction=0.15, verbose=True)"
      ],
      "metadata": {
        "id": "lsFqBAyMxHJ-"
      },
      "execution_count": null,
      "outputs": []
    },
    {
      "cell_type": "code",
      "source": [
        "mlp.fit(x_train_scaled, y_train_1)"
      ],
      "metadata": {
        "colab": {
          "base_uri": "https://localhost:8080/",
          "height": 1000
        },
        "id": "YsA3NtTyxOY1",
        "outputId": "e8c24cd2-0171-477b-c0ff-6efebd21ed1c"
      },
      "execution_count": null,
      "outputs": [
        {
          "output_type": "stream",
          "name": "stdout",
          "text": [
            "Iteration 1, loss = 1.24523094\n",
            "Validation score: 0.754814\n",
            "Iteration 2, loss = 0.98956798\n",
            "Validation score: 0.818999\n",
            "Iteration 3, loss = 0.91287408\n",
            "Validation score: 0.821566\n",
            "Iteration 4, loss = 0.86859345\n",
            "Validation score: 0.826701\n",
            "Iteration 5, loss = 0.83795470\n",
            "Validation score: 0.827985\n",
            "Iteration 6, loss = 0.78872965\n",
            "Validation score: 0.839538\n",
            "Iteration 7, loss = 0.75631235\n",
            "Validation score: 0.838254\n",
            "Iteration 8, loss = 0.71260752\n",
            "Validation score: 0.845956\n",
            "Iteration 9, loss = 0.68454107\n",
            "Validation score: 0.847240\n",
            "Iteration 10, loss = 0.64954276\n",
            "Validation score: 0.871630\n",
            "Iteration 11, loss = 0.61088928\n",
            "Validation score: 0.878049\n",
            "Iteration 12, loss = 0.56840091\n",
            "Validation score: 0.876765\n",
            "Iteration 13, loss = 0.53474030\n",
            "Validation score: 0.902439\n",
            "Iteration 14, loss = 0.50691147\n",
            "Validation score: 0.898588\n",
            "Iteration 15, loss = 0.48089069\n",
            "Validation score: 0.902439\n",
            "Iteration 16, loss = 0.45118880\n",
            "Validation score: 0.885751\n",
            "Iteration 17, loss = 0.43009074\n",
            "Validation score: 0.912709\n",
            "Iteration 18, loss = 0.40581539\n",
            "Validation score: 0.907574\n",
            "Iteration 19, loss = 0.38549927\n",
            "Validation score: 0.913992\n",
            "Iteration 20, loss = 0.35567658\n",
            "Validation score: 0.922978\n",
            "Iteration 21, loss = 0.34168041\n",
            "Validation score: 0.926829\n",
            "Iteration 22, loss = 0.33201621\n",
            "Validation score: 0.922978\n",
            "Iteration 23, loss = 0.31719311\n",
            "Validation score: 0.935815\n",
            "Iteration 24, loss = 0.32431848\n",
            "Validation score: 0.915276\n",
            "Iteration 25, loss = 0.30638833\n",
            "Validation score: 0.933248\n",
            "Iteration 26, loss = 0.32104495\n",
            "Validation score: 0.935815\n",
            "Iteration 27, loss = 0.32662443\n",
            "Validation score: 0.940950\n",
            "Iteration 28, loss = 0.27581842\n",
            "Validation score: 0.943517\n",
            "Iteration 29, loss = 0.28131113\n",
            "Validation score: 0.946085\n",
            "Iteration 30, loss = 0.25474431\n",
            "Validation score: 0.935815\n",
            "Iteration 31, loss = 0.24187360\n",
            "Validation score: 0.946085\n",
            "Iteration 32, loss = 0.26318978\n",
            "Validation score: 0.949936\n",
            "Iteration 33, loss = 0.25675378\n",
            "Validation score: 0.944801\n",
            "Iteration 34, loss = 0.22284337\n",
            "Validation score: 0.957638\n",
            "Iteration 35, loss = 0.19296609\n",
            "Validation score: 0.948652\n",
            "Iteration 36, loss = 0.20701464\n",
            "Validation score: 0.944801\n",
            "Iteration 37, loss = 0.21435919\n",
            "Validation score: 0.960205\n",
            "Iteration 38, loss = 0.26621586\n",
            "Validation score: 0.946085\n",
            "Iteration 39, loss = 0.20664204\n",
            "Validation score: 0.943517\n",
            "Iteration 40, loss = 0.18385681\n",
            "Validation score: 0.951220\n",
            "Iteration 41, loss = 0.16421565\n",
            "Validation score: 0.957638\n",
            "Iteration 42, loss = 0.15454812\n",
            "Validation score: 0.960205\n",
            "Iteration 43, loss = 0.15042562\n",
            "Validation score: 0.966624\n",
            "Iteration 44, loss = 0.14241356\n",
            "Validation score: 0.958922\n",
            "Iteration 45, loss = 0.13828273\n",
            "Validation score: 0.955071\n",
            "Iteration 46, loss = 0.14963975\n",
            "Validation score: 0.944801\n",
            "Iteration 47, loss = 0.18063620\n",
            "Validation score: 0.958922\n",
            "Iteration 48, loss = 0.17744713\n",
            "Validation score: 0.964056\n",
            "Iteration 49, loss = 0.14363037\n",
            "Validation score: 0.953787\n",
            "Iteration 50, loss = 0.12405952\n",
            "Validation score: 0.958922\n",
            "Iteration 51, loss = 0.12602558\n",
            "Validation score: 0.962773\n",
            "Iteration 52, loss = 0.10846106\n",
            "Validation score: 0.951220\n",
            "Iteration 53, loss = 0.12250816\n",
            "Validation score: 0.957638\n",
            "Iteration 54, loss = 0.12327691\n",
            "Validation score: 0.956354\n",
            "Validation score did not improve more than tol=0.000100 for 10 consecutive epochs. Stopping.\n"
          ]
        },
        {
          "output_type": "execute_result",
          "data": {
            "text/plain": [
              "MLPClassifier(early_stopping=True, hidden_layer_sizes=(100, 100, 100),\n",
              "              max_iter=1000, validation_fraction=0.15, verbose=True)"
            ],
            "text/html": [
              "<style>#sk-container-id-29 {color: black;background-color: white;}#sk-container-id-29 pre{padding: 0;}#sk-container-id-29 div.sk-toggleable {background-color: white;}#sk-container-id-29 label.sk-toggleable__label {cursor: pointer;display: block;width: 100%;margin-bottom: 0;padding: 0.3em;box-sizing: border-box;text-align: center;}#sk-container-id-29 label.sk-toggleable__label-arrow:before {content: \"▸\";float: left;margin-right: 0.25em;color: #696969;}#sk-container-id-29 label.sk-toggleable__label-arrow:hover:before {color: black;}#sk-container-id-29 div.sk-estimator:hover label.sk-toggleable__label-arrow:before {color: black;}#sk-container-id-29 div.sk-toggleable__content {max-height: 0;max-width: 0;overflow: hidden;text-align: left;background-color: #f0f8ff;}#sk-container-id-29 div.sk-toggleable__content pre {margin: 0.2em;color: black;border-radius: 0.25em;background-color: #f0f8ff;}#sk-container-id-29 input.sk-toggleable__control:checked~div.sk-toggleable__content {max-height: 200px;max-width: 100%;overflow: auto;}#sk-container-id-29 input.sk-toggleable__control:checked~label.sk-toggleable__label-arrow:before {content: \"▾\";}#sk-container-id-29 div.sk-estimator input.sk-toggleable__control:checked~label.sk-toggleable__label {background-color: #d4ebff;}#sk-container-id-29 div.sk-label input.sk-toggleable__control:checked~label.sk-toggleable__label {background-color: #d4ebff;}#sk-container-id-29 input.sk-hidden--visually {border: 0;clip: rect(1px 1px 1px 1px);clip: rect(1px, 1px, 1px, 1px);height: 1px;margin: -1px;overflow: hidden;padding: 0;position: absolute;width: 1px;}#sk-container-id-29 div.sk-estimator {font-family: monospace;background-color: #f0f8ff;border: 1px dotted black;border-radius: 0.25em;box-sizing: border-box;margin-bottom: 0.5em;}#sk-container-id-29 div.sk-estimator:hover {background-color: #d4ebff;}#sk-container-id-29 div.sk-parallel-item::after {content: \"\";width: 100%;border-bottom: 1px solid gray;flex-grow: 1;}#sk-container-id-29 div.sk-label:hover label.sk-toggleable__label {background-color: #d4ebff;}#sk-container-id-29 div.sk-serial::before {content: \"\";position: absolute;border-left: 1px solid gray;box-sizing: border-box;top: 0;bottom: 0;left: 50%;z-index: 0;}#sk-container-id-29 div.sk-serial {display: flex;flex-direction: column;align-items: center;background-color: white;padding-right: 0.2em;padding-left: 0.2em;position: relative;}#sk-container-id-29 div.sk-item {position: relative;z-index: 1;}#sk-container-id-29 div.sk-parallel {display: flex;align-items: stretch;justify-content: center;background-color: white;position: relative;}#sk-container-id-29 div.sk-item::before, #sk-container-id-29 div.sk-parallel-item::before {content: \"\";position: absolute;border-left: 1px solid gray;box-sizing: border-box;top: 0;bottom: 0;left: 50%;z-index: -1;}#sk-container-id-29 div.sk-parallel-item {display: flex;flex-direction: column;z-index: 1;position: relative;background-color: white;}#sk-container-id-29 div.sk-parallel-item:first-child::after {align-self: flex-end;width: 50%;}#sk-container-id-29 div.sk-parallel-item:last-child::after {align-self: flex-start;width: 50%;}#sk-container-id-29 div.sk-parallel-item:only-child::after {width: 0;}#sk-container-id-29 div.sk-dashed-wrapped {border: 1px dashed gray;margin: 0 0.4em 0.5em 0.4em;box-sizing: border-box;padding-bottom: 0.4em;background-color: white;}#sk-container-id-29 div.sk-label label {font-family: monospace;font-weight: bold;display: inline-block;line-height: 1.2em;}#sk-container-id-29 div.sk-label-container {text-align: center;}#sk-container-id-29 div.sk-container {/* jupyter's `normalize.less` sets `[hidden] { display: none; }` but bootstrap.min.css set `[hidden] { display: none !important; }` so we also need the `!important` here to be able to override the default hidden behavior on the sphinx rendered scikit-learn.org. See: https://github.com/scikit-learn/scikit-learn/issues/21755 */display: inline-block !important;position: relative;}#sk-container-id-29 div.sk-text-repr-fallback {display: none;}</style><div id=\"sk-container-id-29\" class=\"sk-top-container\"><div class=\"sk-text-repr-fallback\"><pre>MLPClassifier(early_stopping=True, hidden_layer_sizes=(100, 100, 100),\n",
              "              max_iter=1000, validation_fraction=0.15, verbose=True)</pre><b>In a Jupyter environment, please rerun this cell to show the HTML representation or trust the notebook. <br />On GitHub, the HTML representation is unable to render, please try loading this page with nbviewer.org.</b></div><div class=\"sk-container\" hidden><div class=\"sk-item\"><div class=\"sk-estimator sk-toggleable\"><input class=\"sk-toggleable__control sk-hidden--visually\" id=\"sk-estimator-id-29\" type=\"checkbox\" checked><label for=\"sk-estimator-id-29\" class=\"sk-toggleable__label sk-toggleable__label-arrow\">MLPClassifier</label><div class=\"sk-toggleable__content\"><pre>MLPClassifier(early_stopping=True, hidden_layer_sizes=(100, 100, 100),\n",
              "              max_iter=1000, validation_fraction=0.15, verbose=True)</pre></div></div></div></div></div>"
            ]
          },
          "metadata": {},
          "execution_count": 376
        }
      ]
    },
    {
      "cell_type": "markdown",
      "source": [
        "# MLP model evaluation"
      ],
      "metadata": {
        "id": "-8UAl-kUOeu2"
      }
    },
    {
      "cell_type": "markdown",
      "source": [
        "### Evaluasi model MLP dengan menggunakan data testing."
      ],
      "metadata": {
        "id": "qjp9kGvlOiCb"
      }
    },
    {
      "cell_type": "code",
      "source": [
        "y_pred = mlp.predict(x_test_scaled)"
      ],
      "metadata": {
        "id": "PexgfeUIxSqG"
      },
      "execution_count": null,
      "outputs": []
    },
    {
      "cell_type": "code",
      "source": [
        "accuracy_score(np.argmax(y_test_1, axis=1), np.argmax(y_pred, axis=1))"
      ],
      "metadata": {
        "colab": {
          "base_uri": "https://localhost:8080/"
        },
        "id": "1aIxdNvhxhDI",
        "outputId": "ea2edab9-3225-4415-ad63-4adcf4c6cde5"
      },
      "execution_count": null,
      "outputs": [
        {
          "output_type": "execute_result",
          "data": {
            "text/plain": [
              "0.9576597382602001"
            ]
          },
          "metadata": {},
          "execution_count": 378
        }
      ]
    },
    {
      "cell_type": "code",
      "source": [
        "print(classification_report(np.argmax(y_test_1, axis=1), np.argmax(y_pred, axis=1), zero_division=1))"
      ],
      "metadata": {
        "colab": {
          "base_uri": "https://localhost:8080/"
        },
        "id": "CoJ4yDCgxlpQ",
        "outputId": "4f254c75-9490-4bc6-c740-8d1c824fce7a"
      },
      "execution_count": null,
      "outputs": [
        {
          "output_type": "stream",
          "name": "stdout",
          "text": [
            "              precision    recall  f1-score   support\n",
            "\n",
            "           0       1.00      0.92      0.96       664\n",
            "           1       0.92      1.00      0.96       635\n",
            "\n",
            "    accuracy                           0.96      1299\n",
            "   macro avg       0.96      0.96      0.96      1299\n",
            "weighted avg       0.96      0.96      0.96      1299\n",
            "\n"
          ]
        }
      ]
    },
    {
      "cell_type": "code",
      "source": [
        "cm = confusion_matrix(np.argmax(y_test_1, axis=1), np.argmax(y_pred, axis=1))\n",
        "\n",
        "plt.figure(figsize=(2, 2))\n",
        "sns.heatmap(cm, annot=True, cmap='Blues', fmt='d', cbar=False)\n",
        "plt.xlabel('Predicted Labels')\n",
        "plt.ylabel('True Labels')\n",
        "plt.title('Confusion Matrix')\n",
        "plt.show()"
      ],
      "metadata": {
        "colab": {
          "base_uri": "https://localhost:8080/",
          "height": 256
        },
        "id": "171vqpknRydt",
        "outputId": "b30d0265-2af5-4027-ea71-b847fd687ced"
      },
      "execution_count": null,
      "outputs": [
        {
          "output_type": "display_data",
          "data": {
            "text/plain": [
              "<Figure size 200x200 with 1 Axes>"
            ],
            "image/png": "[encoded data removed]"
          },
          "metadata": {}
        }
      ]
    }
  ]
}